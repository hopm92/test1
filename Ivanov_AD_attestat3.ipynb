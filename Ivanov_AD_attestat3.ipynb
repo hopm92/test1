{
 "cells": [
  {
   "cell_type": "code",
   "execution_count": 2,
   "id": "0cb2ad92",
   "metadata": {},
   "outputs": [],
   "source": [
    "import tkinter as tk\n",
    "from tkinter import simpledialog\n",
    "import sqlite3\n",
    "\n",
    "# Создаем базу данных и таблицу, если они еще не существуют\n",
    "conn = sqlite3.connect('people.db')\n",
    "cursor = conn.cursor()\n",
    "cursor.execute('''CREATE TABLE IF NOT EXISTS people\n",
    "                  (id INTEGER PRIMARY KEY AUTOINCREMENT,\n",
    "                   first_name TEXT,\n",
    "                   last_name TEXT,\n",
    "                   age INTEGER)''')\n",
    "conn.commit()\n",
    "\n",
    "# Создаем графический интерфейс с помощью Tkinter\n",
    "root = tk.Tk()\n",
    "root.title('Список людей')\n",
    "root.geometry('250x100')\n",
    "\n",
    "# Создаем функцию для добавления записей в базу данных\n",
    "def add_person():\n",
    "    first_name = simpledialog.askstring('Ввод', 'Введите имя')\n",
    "    last_name = simpledialog.askstring('Ввод', 'Введите фамилию')\n",
    "    age = simpledialog.askinteger('Ввод', 'Введите возраст')\n",
    "    cursor.execute('''INSERT INTO people (first_name, last_name, age)\n",
    "                      VALUES (?, ?, ?)''', (first_name, last_name, age))\n",
    "    conn.commit()\n",
    "    show_people()\n",
    "\n",
    "# Создаем функцию для вывода списка имен, фамилий и возраста из базы данных\n",
    "def show_people():\n",
    "    cursor.execute('''SELECT first_name, last_name, age FROM people''')\n",
    "    people_list = cursor.fetchall()\n",
    "    people_text = '\\n'.join([' '.join(map(str, person)) for person in people_list])\n",
    "    simpledialog.messagebox.showinfo('Список людей', people_text)\n",
    "\n",
    "# Создаем кнопку для вызова функции добавления записи\n",
    "add_button = tk.Button(root, text='Добавить человека', command=add_person)\n",
    "add_button.pack()\n",
    "\n",
    "# Создаем кнопку для вызова функции вывода списка в диалоговом окне\n",
    "show_button = tk.Button(root, text='Показать список', command=show_people)\n",
    "show_button.pack()\n",
    "\n",
    "root.mainloop()"
   ]
  },
  {
   "cell_type": "code",
   "execution_count": null,
   "id": "89a97a14",
   "metadata": {},
   "outputs": [],
   "source": []
  }
 ],
 "metadata": {
  "kernelspec": {
   "display_name": "Python 3 (ipykernel)",
   "language": "python",
   "name": "python3"
  },
  "language_info": {
   "codemirror_mode": {
    "name": "ipython",
    "version": 3
   },
   "file_extension": ".py",
   "mimetype": "text/x-python",
   "name": "python",
   "nbconvert_exporter": "python",
   "pygments_lexer": "ipython3",
   "version": "3.11.5"
  }
 },
 "nbformat": 4,
 "nbformat_minor": 5
}
